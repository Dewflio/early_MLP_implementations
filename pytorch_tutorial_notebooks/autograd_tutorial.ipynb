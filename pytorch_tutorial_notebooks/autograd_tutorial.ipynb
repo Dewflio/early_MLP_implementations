{
  "cells": [
    {
      "cell_type": "code",
      "execution_count": 1,
      "metadata": {
        "collapsed": false
      },
      "outputs": [],
      "source": [
        "%matplotlib inline"
      ]
    },
    {
      "cell_type": "markdown",
      "metadata": {},
      "source": [
        "\n",
        "# A Gentle Introduction to ``torch.autograd``\n",
        "\n",
        "``torch.autograd`` is PyTorch’s automatic differentiation engine that powers\n",
        "neural network training. In this section, you will get a conceptual\n",
        "understanding of how autograd helps a neural network train.\n",
        "\n",
        "## Background\n",
        "Neural networks (NNs) are a collection of nested functions that are\n",
        "executed on some input data. These functions are defined by *parameters*\n",
        "(consisting of weights and biases), which in PyTorch are stored in\n",
        "tensors.\n",
        "\n",
        "Training a NN happens in two steps:\n",
        "\n",
        "**Forward Propagation**: In forward prop, the NN makes its best guess\n",
        "about the correct output. It runs the input data through each of its\n",
        "functions to make this guess.\n",
        "\n",
        "**Backward Propagation**: In backprop, the NN adjusts its parameters\n",
        "proportionate to the error in its guess. It does this by traversing\n",
        "backwards from the output, collecting the derivatives of the error with\n",
        "respect to the parameters of the functions (*gradients*), and optimizing\n",
        "the parameters using gradient descent. For a more detailed walkthrough\n",
        "of backprop, check out this [video from\n",
        "3Blue1Brown](https://www.youtube.com/watch?v=tIeHLnjs5U8)_.\n",
        "\n",
        "\n",
        "\n",
        "\n",
        "## Usage in PyTorch\n",
        "Let's take a look at a single training step.\n",
        "For this example, we load a pretrained resnet18 model from ``torchvision``.\n",
        "We create a random data tensor to represent a single image with 3 channels, and height & width of 64,\n",
        "and its corresponding ``label`` initialized to some random values. Label in pretrained models has\n",
        "shape (1,1000).\n",
        "\n",
        "<div class=\"alert alert-info\"><h4>Note</h4><p>This tutorial work only on CPU and will not work on GPU (even if tensors are moved to CUDA).</p></div>\n"
      ]
    },
    {
      "cell_type": "code",
      "execution_count": 2,
      "metadata": {
        "collapsed": false
      },
      "outputs": [],
      "source": [
        "import torch\n",
        "from torchvision.models import resnet18, ResNet18_Weights\n",
        "model = resnet18(weights=ResNet18_Weights.DEFAULT)\n",
        "data = torch.rand(1, 3, 64, 64)\n",
        "labels = torch.rand(1, 1000)"
      ]
    },
    {
      "cell_type": "markdown",
      "metadata": {},
      "source": [
        "Next, we run the input data through the model through each of its layers to make a prediction.\n",
        "This is the **forward pass**.\n",
        "\n",
        "\n"
      ]
    },
    {
      "cell_type": "code",
      "execution_count": 3,
      "metadata": {
        "collapsed": false
      },
      "outputs": [
        {
          "name": "stdout",
          "output_type": "stream",
          "text": [
            "tensor([[-7.3183e-01, -7.9213e-01, -1.1235e+00, -2.1589e+00, -1.1074e+00,\n",
            "         -1.6325e-01, -4.3209e-01,  4.7338e-01,  2.5128e-01, -4.9281e-01,\n",
            "         -1.0774e+00, -1.0033e+00, -3.3984e-01, -1.0920e+00, -9.9082e-01,\n",
            "         -8.1874e-01, -9.5229e-01, -2.4250e-01, -5.8593e-01, -5.7074e-01,\n",
            "         -1.7082e+00, -1.3224e+00, -1.6403e+00, -1.4030e-01, -7.7236e-01,\n",
            "         -1.1499e+00, -8.7741e-01, -1.1794e+00, -8.1543e-01, -3.7818e-02,\n",
            "         -9.5437e-01, -8.9605e-01, -5.3364e-01, -7.5606e-01, -4.6020e-01,\n",
            "         -5.6666e-01,  4.6236e-01, -6.6568e-01, -5.0370e-01,  1.1862e-01,\n",
            "         -9.4362e-01, -7.8583e-01, -9.9095e-01, -4.6940e-01, -7.4024e-01,\n",
            "         -5.4360e-01, -7.5426e-01, -4.2322e-01, -1.2368e+00, -1.1324e+00,\n",
            "         -5.8717e-01,  2.9977e-01, -2.3814e-01, -6.9995e-01, -4.7687e-01,\n",
            "         -1.1204e+00, -3.3334e-01, -1.5754e+00, -6.9978e-01, -4.9924e-01,\n",
            "          8.5564e-01,  2.1586e-01, -2.3173e-01,  3.1791e-01, -7.1802e-01,\n",
            "         -3.1352e-01, -3.3842e-01, -1.4672e-01, -8.5068e-01, -1.1670e+00,\n",
            "         -1.5906e+00,  1.4511e-02, -1.2074e+00, -9.1677e-02, -9.9283e-01,\n",
            "         -1.0693e+00,  3.9839e-01, -2.2268e-01,  3.8301e-01,  3.4722e-01,\n",
            "         -1.0421e+00, -1.8440e+00, -1.7735e-01, -8.1712e-01, -1.6974e-01,\n",
            "          9.1941e-02, -6.6142e-02,  4.3138e-01,  1.4384e-01, -7.3246e-01,\n",
            "         -1.2038e+00, -1.3047e+00, -1.9818e+00, -3.7418e-01,  2.0704e-02,\n",
            "         -2.0138e+00, -4.5725e-01, -3.0299e-01, -1.5254e+00, -3.2017e-01,\n",
            "         -1.1473e+00, -9.6222e-01, -1.0971e+00, -4.8789e-01,  3.0108e-02,\n",
            "         -4.9552e-01, -4.9971e-01, -1.3337e+00, -9.7599e-01, -1.3338e+00,\n",
            "         -1.1178e+00, -6.5140e-01,  1.1031e+00,  4.4579e-01,  4.8008e-01,\n",
            "         -1.0229e+00, -8.9228e-01, -4.6248e-01,  4.7065e-01, -2.5128e-01,\n",
            "         -6.9453e-01, -1.1316e-01,  3.1690e-01, -2.0137e-01,  8.9324e-01,\n",
            "          2.4928e-01,  3.4872e-01, -1.6341e+00, -1.4181e+00, -1.0862e+00,\n",
            "         -1.4653e+00, -1.6095e+00, -1.1311e+00, -1.7349e+00, -8.2272e-01,\n",
            "         -1.6397e+00, -1.3107e+00, -1.3976e+00, -1.3887e+00, -1.6050e+00,\n",
            "         -1.5255e+00, -1.7798e+00, -2.1793e+00, -1.8318e+00, -8.1755e-01,\n",
            "         -3.5575e-01, -1.2809e+00, -2.1774e+00, -1.3175e+00, -1.4638e+00,\n",
            "          5.4953e-01,  1.5622e+00, -1.1543e+00, -5.2920e-01,  1.3477e-01,\n",
            "          2.4350e-01, -2.8699e-01, -3.6148e-01,  3.9572e-01,  7.3743e-02,\n",
            "          3.6913e-01,  7.9822e-01,  3.2140e-01,  5.0654e-01,  7.1570e-01,\n",
            "         -3.9609e-02,  8.0820e-02, -4.1478e-01,  9.0060e-01, -2.7611e-01,\n",
            "          2.9526e-01,  1.0008e+00,  6.8219e-01,  2.9428e-01,  5.5153e-01,\n",
            "         -8.0345e-01,  2.9022e-01,  2.4794e-01,  8.4617e-01,  5.5813e-01,\n",
            "          5.9293e-01,  2.3620e-01,  7.0561e-01,  2.1718e-01,  8.1194e-01,\n",
            "          4.9558e-01,  4.2387e-01,  2.6446e-01,  1.2080e-01,  6.6372e-01,\n",
            "         -5.7221e-01,  4.0670e-01,  4.0085e-01,  5.8343e-01, -4.9961e-01,\n",
            "          1.1909e+00,  3.2384e-01,  3.0883e-01,  2.4669e-01,  7.9286e-01,\n",
            "         -2.5027e-02,  5.0094e-01,  6.2371e-01,  6.9556e-01,  3.1415e-01,\n",
            "          4.6726e-01,  1.2679e-01,  6.2456e-01,  1.3225e+00,  7.2315e-01,\n",
            "          9.7304e-02,  2.9042e-01,  5.9138e-01,  1.5618e-01,  4.1128e-01,\n",
            "          3.7614e-01, -2.3421e-02,  4.7504e-01, -2.8650e-01,  7.0976e-01,\n",
            "         -1.6982e-02,  9.3211e-02,  1.4733e-01,  7.2530e-01,  3.4935e-01,\n",
            "          7.3721e-01,  2.1214e-01,  9.4026e-01, -3.9832e-01, -2.0797e-01,\n",
            "          1.0656e-01,  4.3563e-01,  4.5304e-01, -2.0001e-01,  8.9664e-01,\n",
            "          9.0903e-01,  8.2432e-01,  4.1621e-01,  1.0827e+00,  1.1210e-01,\n",
            "          6.1699e-01,  2.4609e-01,  5.8874e-01,  4.5403e-01,  1.4660e-02,\n",
            "          5.5197e-01,  4.3983e-01,  2.3298e-01,  9.4707e-01,  3.9366e-01,\n",
            "          8.0115e-01,  6.7637e-01, -8.1770e-01,  6.7908e-01,  1.0803e+00,\n",
            "         -5.6664e-01,  4.9338e-01,  3.7615e-01,  5.1352e-03,  6.1945e-02,\n",
            "         -8.8917e-02, -4.8588e-01, -2.5647e-01,  3.6858e-01,  6.4200e-01,\n",
            "          9.4712e-01,  4.5004e-01,  9.9929e-01,  1.9322e-01, -1.1678e-01,\n",
            "         -6.6137e-01, -9.9895e-01, -4.4603e-01,  7.0791e-01, -1.0789e+00,\n",
            "         -9.0798e-01, -8.8866e-01, -9.6269e-01, -1.2431e+00, -6.9008e-01,\n",
            "         -4.5915e-01,  7.7509e-01,  8.9620e-01, -1.8842e-01,  4.1383e-01,\n",
            "          1.0013e+00, -2.2416e-01, -1.8020e-02, -5.1687e-01, -1.4148e+00,\n",
            "         -8.2457e-01, -9.7347e-01, -3.3499e-01, -7.1413e-01, -9.3381e-01,\n",
            "         -7.5686e-01, -7.7301e-01, -1.3801e+00, -6.8992e-01, -2.7283e-01,\n",
            "         -1.4830e+00, -8.0769e-01, -2.6385e-01, -3.2362e-01, -1.1097e+00,\n",
            "         -5.1234e-01,  6.4340e-01, -5.5531e-01, -1.1622e+00, -5.3001e-01,\n",
            "          5.1126e-01, -5.3756e-01, -4.1206e-01, -5.9972e-02,  8.6335e-01,\n",
            "         -6.3805e-01, -9.4965e-01, -1.3106e+00, -1.2799e+00, -5.2361e-01,\n",
            "         -1.3136e+00, -1.3396e+00, -1.6068e+00, -1.8220e+00, -1.8420e+00,\n",
            "         -1.8594e+00, -1.1414e+00,  4.7320e-02, -1.2310e-01, -4.7386e-01,\n",
            "         -1.0004e-02, -3.0387e-01, -8.3055e-02,  2.6338e-01, -5.9078e-01,\n",
            "         -9.8093e-01, -1.6164e+00, -2.5890e-02,  5.5540e-01, -1.0844e+00,\n",
            "         -2.6908e-01,  6.9006e-01, -2.0361e-01, -1.2194e+00, -7.2911e-01,\n",
            "          6.0016e-01, -4.3985e-01, -1.5305e+00,  2.4570e-01, -1.0205e+00,\n",
            "         -1.0969e+00, -2.0937e+00, -1.2455e+00, -6.9595e-01, -3.9691e-01,\n",
            "          7.9423e-01,  9.5978e-01, -1.0440e-01,  1.0840e-01,  3.2533e-01,\n",
            "         -2.5579e-01,  3.4009e-01, -7.0869e-02,  2.6232e-01, -3.0525e-01,\n",
            "         -3.5757e-01, -1.1171e+00, -3.1130e-01, -6.3252e-01, -3.9549e-01,\n",
            "         -5.6345e-01, -2.5084e-01, -1.7556e-01,  1.1015e-01,  4.1567e-02,\n",
            "         -6.0997e-01, -1.1240e+00,  2.4232e-01, -2.5543e-01, -5.3094e-01,\n",
            "          2.7591e-01, -3.1468e-01, -1.1090e-02, -5.7723e-01, -7.5920e-01,\n",
            "         -2.4631e-01, -7.3728e-01, -1.3940e+00, -1.0040e+00, -7.3441e-01,\n",
            "          6.6915e-01,  2.7254e-01, -1.4117e+00, -1.7683e+00, -3.5576e-01,\n",
            "          3.0789e-01, -1.4130e+00, -6.0046e-01,  6.7040e-01, -9.0671e-04,\n",
            "         -7.8374e-01,  7.1761e-01,  3.7221e-02, -2.7147e+00, -2.2029e+00,\n",
            "         -9.5999e-01,  9.1099e-03, -4.8491e-01, -2.2659e-01,  1.0987e+00,\n",
            "         -2.4755e-01,  1.3322e-01,  1.8968e+00,  9.5332e-01,  4.4980e-01,\n",
            "          6.7673e-01, -1.5973e-01,  3.6930e-01,  3.1506e-01,  1.0710e+00,\n",
            "          9.2888e-01,  1.2375e+00, -6.0886e-02,  1.2392e-01,  1.0667e-01,\n",
            "         -1.3015e+00, -1.0821e-01,  1.3130e+00,  1.5039e+00,  3.8732e-01,\n",
            "         -8.1991e-01, -3.6164e-01,  4.2708e-01,  9.5621e-01,  3.2245e-01,\n",
            "          1.0636e+00, -8.3363e-01, -3.9329e-01,  1.1087e-01,  1.5935e-01,\n",
            "          9.4109e-01,  4.4875e-01,  3.2785e-01, -3.3858e-01, -2.9474e-01,\n",
            "          3.0832e-01,  4.8136e-01,  1.5293e+00,  9.8122e-01, -7.4347e-01,\n",
            "         -9.7479e-02,  7.9679e-01,  4.0885e-01, -8.3465e-02, -2.3096e-01,\n",
            "          6.0652e-01,  1.3436e+00,  9.5925e-01,  4.1575e-02,  4.3342e-01,\n",
            "         -7.1278e-01,  5.3065e-01,  9.0560e-01,  2.3719e+00,  9.7154e-01,\n",
            "         -3.1709e-01, -1.3499e+00, -3.2192e-01, -2.8300e-01,  1.6131e+00,\n",
            "          8.9309e-01,  7.3706e-01,  1.0833e-01,  8.1571e-01, -4.7257e-02,\n",
            "         -2.3023e-03, -1.4925e-02,  4.8485e-01,  8.4558e-01,  2.6087e-01,\n",
            "          2.5075e-02,  2.4445e-01,  2.7961e-01, -9.4191e-01, -1.4212e+00,\n",
            "         -1.3259e-02, -4.1021e-01,  1.1099e+00,  1.8633e+00,  1.0655e+00,\n",
            "          4.9660e-01,  1.1651e+00,  6.5724e-01, -1.1260e+00,  1.3615e+00,\n",
            "         -1.1160e+00,  6.4234e-02, -2.2543e-01, -1.7564e-01,  1.4634e+00,\n",
            "         -1.7047e+00,  4.5731e-01,  9.9003e-01,  7.1279e-01,  1.1717e+00,\n",
            "          1.2633e+00,  1.2050e+00,  6.7287e-01,  4.7394e-01,  1.9129e-01,\n",
            "         -1.3266e+00, -9.0775e-01,  7.5401e-01,  1.6708e-01,  1.1708e+00,\n",
            "          1.6133e+00,  8.3966e-02,  7.9776e-03,  1.2204e+00,  7.6222e-01,\n",
            "         -6.7974e-01,  4.9345e-01,  8.8960e-01,  1.3462e+00,  2.8786e-01,\n",
            "         -8.3182e-01, -1.4954e-01, -2.7150e-01,  5.2655e-01,  7.2554e-02,\n",
            "          1.1451e+00,  1.4894e-01,  9.5053e-02, -9.2019e-01,  2.7086e-01,\n",
            "         -4.8475e-01, -4.7196e-01, -4.5048e-01,  4.1689e-01,  1.2859e+00,\n",
            "         -1.5142e+00,  1.4559e+00,  1.0376e+00,  6.2168e-01,  8.3063e-01,\n",
            "          1.1259e+00,  5.5811e-01, -2.0786e+00, -1.2298e+00,  1.1609e-01,\n",
            "         -2.3144e-01,  1.5931e-01,  5.8300e-01, -2.4551e-01, -1.4799e+00,\n",
            "         -9.6550e-01,  3.1096e-01,  1.8476e-01,  1.0959e+00,  7.6181e-01,\n",
            "          5.0705e-02, -1.0317e-01,  1.0557e+00, -1.5919e-01, -1.4715e+00,\n",
            "         -6.3585e-01, -7.4479e-03,  1.1295e+00,  4.9855e-01, -8.1639e-01,\n",
            "          1.2102e+00,  7.7962e-02,  8.1288e-01, -8.3015e-01,  2.7002e-01,\n",
            "         -2.5646e-01, -1.1187e+00,  1.1536e+00,  3.4279e-02,  2.6307e-02,\n",
            "         -2.9048e-02, -4.9650e-01,  7.9134e-01,  8.2745e-01,  9.0875e-01,\n",
            "          1.1600e+00, -6.3322e-01,  1.8204e+00,  8.1551e-01,  1.4445e+00,\n",
            "         -4.7456e-01,  3.2569e-01, -5.5355e-01,  6.4248e-01,  2.9107e-01,\n",
            "         -7.2871e-01,  1.2544e+00,  7.6638e-02, -4.6835e-01,  7.6648e-01,\n",
            "          2.1018e+00, -3.7807e-01, -1.1683e-01, -4.1190e-01,  2.4590e-01,\n",
            "          2.7980e-01,  1.2688e+00, -4.7958e-01,  5.4467e-01, -3.3754e-01,\n",
            "          1.0215e+00,  9.2644e-01, -4.7983e-01,  5.8328e-01,  3.3494e-02,\n",
            "          1.5888e-01,  9.5252e-01,  5.8641e-01,  1.8536e+00,  9.8886e-01,\n",
            "          1.2161e+00,  6.6496e-01,  2.3355e-01,  3.4113e-01,  3.4055e-01,\n",
            "         -1.3865e+00,  1.0459e+00, -8.9230e-01, -1.1956e+00,  2.6617e-01,\n",
            "         -1.2114e-01,  1.2454e+00,  5.6419e-01,  1.2040e+00, -1.5265e-01,\n",
            "          2.3548e-01,  1.2035e+00,  9.5369e-01,  7.1159e-01,  2.0105e-01,\n",
            "         -1.4202e+00,  1.2637e+00,  1.7268e-01,  1.4677e+00,  7.0062e-01,\n",
            "         -1.1898e+00,  8.7218e-01,  3.7351e-01, -4.8713e-01, -1.6114e+00,\n",
            "          1.1344e+00,  1.1868e-01,  4.6095e-01,  8.8504e-01, -2.6355e-01,\n",
            "          5.5091e-01, -3.8345e-01, -1.2314e-01,  9.1761e-02,  4.4516e-01,\n",
            "         -2.9980e-01, -1.2607e+00,  1.0424e-02, -7.4693e-01,  8.1029e-01,\n",
            "         -1.0646e-01,  1.3205e+00,  4.3110e-01, -6.2640e-01, -6.9022e-01,\n",
            "         -2.1050e-01,  7.8756e-02, -4.5054e-01,  6.0822e-01,  1.6479e+00,\n",
            "         -7.4400e-01,  1.6465e+00,  1.0282e+00,  9.2345e-01,  3.8681e-01,\n",
            "          5.6398e-01,  7.5502e-01, -3.7480e-01,  5.2442e-01,  8.6971e-01,\n",
            "         -1.6458e+00, -3.5875e-02, -1.1485e+00, -1.8723e-01, -9.6391e-01,\n",
            "         -6.6556e-01,  7.7083e-01,  9.4131e-01,  5.7772e-01, -8.1482e-01,\n",
            "          1.1193e+00,  1.6577e+00, -1.6658e-01, -3.5075e-01,  5.8467e-01,\n",
            "          1.8564e+00, -3.1824e-01, -1.3605e-01,  5.2172e-01,  8.2981e-01,\n",
            "         -6.8020e-01, -9.4972e-02,  6.5219e-01,  9.4629e-01,  2.1109e-01,\n",
            "          8.7560e-01,  9.4101e-01,  7.5841e-03, -5.6501e-01,  4.3103e-01,\n",
            "         -6.3914e-01,  7.0388e-01, -1.0425e+00, -3.7321e-01,  6.7003e-01,\n",
            "          1.9183e-01,  6.7345e-01,  1.3650e+00,  1.9989e-01, -7.0206e-01,\n",
            "          1.3552e+00, -7.6829e-01, -2.2372e-02,  1.2705e+00, -5.5258e-01,\n",
            "         -2.7229e-02,  2.2831e+00, -5.3845e-01,  1.8264e+00, -1.5804e+00,\n",
            "          1.5677e-01, -2.6093e-01,  8.5999e-01,  1.1822e+00,  3.1295e-01,\n",
            "          1.2445e+00, -1.4044e-02,  5.1538e-01,  5.2661e-01,  4.2539e-01,\n",
            "          1.0631e-01,  1.7029e-01,  6.6907e-01,  9.2135e-01,  1.1984e+00,\n",
            "          5.2509e-01, -3.6960e-01,  1.3426e-01,  3.8869e-01,  7.2513e-01,\n",
            "         -5.2681e-01,  1.2780e+00, -5.7223e-01,  1.5513e+00, -1.9157e-01,\n",
            "          2.1659e-01,  8.5804e-01,  3.0007e-01,  9.3256e-01,  1.4673e+00,\n",
            "          9.1933e-01,  2.8571e-01,  3.7130e-01, -3.3322e-01,  1.5576e+00,\n",
            "          3.5693e-01,  1.7476e-01,  1.4215e+00,  8.8643e-01,  3.7787e-01,\n",
            "          8.4991e-02,  2.9555e-01,  4.4038e-01,  1.3049e+00, -1.0131e+00,\n",
            "         -9.7628e-01, -1.1310e+00,  9.3964e-01,  8.0641e-01,  1.6510e+00,\n",
            "          2.5745e-01,  8.8097e-01,  1.5149e+00,  2.2844e-01,  1.4897e-01,\n",
            "          3.7482e-01,  1.1404e+00,  1.6368e+00,  8.4524e-01,  4.9591e-01,\n",
            "          2.2348e-01,  1.1839e+00,  5.6138e-01, -4.4663e-01,  5.8291e-01,\n",
            "         -8.4565e-01,  5.5497e-01, -1.2384e+00, -1.5576e+00,  1.3714e+00,\n",
            "          1.0470e+00,  4.0076e-01, -9.5447e-02,  1.3346e+00,  3.4225e-01,\n",
            "         -2.8804e-01,  1.4215e+00, -5.0889e-01,  1.7949e+00, -1.3639e+00,\n",
            "         -3.1670e-01,  4.4877e-01, -1.4429e+00,  1.3293e+00,  1.8521e-01,\n",
            "         -1.6820e+00, -9.9034e-01,  3.3450e-01,  9.1082e-01,  8.6650e-01,\n",
            "         -7.5369e-01,  3.8467e-01,  1.1090e+00,  1.3260e+00, -4.8631e-01,\n",
            "          6.6023e-01,  2.1504e-01, -6.4699e-01, -1.3555e+00,  4.6259e-02,\n",
            "          5.7389e-01,  1.7890e+00,  1.6968e+00,  1.4272e+00, -4.5338e-01,\n",
            "          1.3219e+00,  4.3389e-01,  3.0785e-01,  4.7648e-01,  6.2151e-01,\n",
            "          2.0504e+00,  7.8653e-01, -5.8027e-01,  5.5692e-01,  1.1376e+00,\n",
            "          1.4371e+00,  1.2597e+00,  1.9868e+00, -7.8888e-01, -4.7514e-01,\n",
            "          1.0594e+00, -7.5680e-01, -2.5831e-01, -2.2589e-01,  1.2023e+00,\n",
            "          6.2565e-02,  1.3294e+00,  9.3310e-01,  1.4035e-01, -6.0123e-01,\n",
            "          7.4300e-01, -2.8018e-02, -5.0471e-01,  1.4224e+00, -4.0381e-01,\n",
            "          8.6343e-01, -1.3368e+00,  1.4347e+00, -8.3848e-01, -2.3821e+00,\n",
            "          4.4375e-02,  1.6286e+00, -9.0118e-02, -3.7832e-02,  1.8501e+00,\n",
            "          1.0450e+00, -3.7989e-01,  1.3316e+00,  1.1995e+00, -2.2458e-02,\n",
            "         -3.0858e-02, -3.1459e-02, -4.8251e-01, -1.2613e+00,  7.5219e-02,\n",
            "         -1.8425e-01,  1.8086e-01,  7.4881e-01,  1.3752e-01, -7.8532e-01,\n",
            "         -1.0501e+00,  1.1562e+00,  6.2268e-01,  2.0464e+00,  1.8999e+00,\n",
            "         -1.0596e+00, -3.2623e-01,  1.7294e+00,  9.9411e-01,  8.3150e-01,\n",
            "          9.8632e-02, -6.6807e-01,  1.2891e+00, -1.0061e+00,  9.3726e-01,\n",
            "          1.3863e+00,  1.1923e+00,  8.0841e-01, -7.1839e-01, -1.9074e+00,\n",
            "         -4.0362e-01,  4.0433e-01,  5.2203e-01,  7.2792e-01,  3.0372e-01,\n",
            "         -6.2538e-02,  1.4618e+00, -5.7381e-01,  5.2324e-01, -3.0289e-01,\n",
            "         -7.2324e-01, -1.1286e+00, -4.2297e-01, -1.9631e-01,  1.6538e+00,\n",
            "         -6.3993e-01, -1.2252e-01,  1.6699e-01, -1.5712e+00, -3.6530e-02,\n",
            "         -4.4208e-01,  1.6305e-01,  3.6469e-01,  1.5126e-01,  5.1967e-02,\n",
            "         -4.7609e-01, -7.8873e-01, -1.6503e-01,  8.1307e-02, -7.9239e-01,\n",
            "         -7.3160e-01, -1.5949e+00,  6.9949e-01,  7.3990e-01, -3.8374e-01,\n",
            "          1.3906e-01, -4.9845e-01, -6.6425e-01,  3.8931e-01,  6.5473e-01,\n",
            "         -4.7945e-01, -3.1750e-02, -5.3484e-01, -3.0832e-01, -8.3434e-01,\n",
            "          8.9359e-02,  5.8289e-01, -2.9536e-01, -5.2426e-01, -1.5830e+00,\n",
            "         -4.2322e-01,  4.7035e-01, -5.5319e-01,  8.1899e-01,  2.5083e-02,\n",
            "         -2.7496e-01,  1.2254e+00, -6.2034e-01, -5.0750e-01, -1.8821e+00,\n",
            "          9.2591e-01, -1.7478e+00,  2.8844e-01,  1.7566e-01, -5.8896e-01,\n",
            "         -8.1323e-01, -3.0614e-01,  4.5059e-01, -4.2841e-01, -8.9587e-01,\n",
            "         -1.5938e+00, -2.2522e+00,  1.0807e+00, -2.6441e-01, -8.9913e-01,\n",
            "         -7.3812e-01, -1.2329e+00, -7.8988e-01, -1.8291e+00, -6.4863e-01,\n",
            "         -1.7227e-01,  2.1005e-01, -5.2671e-01,  9.1268e-01,  1.0230e+00]],\n",
            "       grad_fn=<AddmmBackward0>)\n"
          ]
        }
      ],
      "source": [
        "prediction = model(data) # forward pass\n",
        "print(prediction)"
      ]
    },
    {
      "cell_type": "markdown",
      "metadata": {},
      "source": [
        "We use the model's prediction and the corresponding label to calculate the error (``loss``).\n",
        "The next step is to backpropagate this error through the network.\n",
        "Backward propagation is kicked off when we call ``.backward()`` on the error tensor.\n",
        "Autograd then calculates and stores the gradients for each model parameter in the parameter's ``.grad`` attribute.\n",
        "\n",
        "\n"
      ]
    },
    {
      "cell_type": "code",
      "execution_count": 4,
      "metadata": {
        "collapsed": false
      },
      "outputs": [],
      "source": [
        "loss = (prediction - labels).sum()\n",
        "loss.backward() # backward pass"
      ]
    },
    {
      "cell_type": "markdown",
      "metadata": {},
      "source": [
        "Next, we load an optimizer, in this case SGD with a learning rate of 0.01 and [momentum](https://towardsdatascience.com/stochastic-gradient-descent-with-momentum-a84097641a5d)_ of 0.9.\n",
        "We register all the parameters of the model in the optimizer.\n",
        "\n",
        "\n"
      ]
    },
    {
      "cell_type": "code",
      "execution_count": 5,
      "metadata": {
        "collapsed": false
      },
      "outputs": [],
      "source": [
        "optim = torch.optim.SGD(model.parameters(), lr=1e-2, momentum=0.9)"
      ]
    },
    {
      "cell_type": "markdown",
      "metadata": {},
      "source": [
        "Finally, we call ``.step()`` to initiate gradient descent. The optimizer adjusts each parameter by its gradient stored in ``.grad``.\n",
        "\n",
        "\n"
      ]
    },
    {
      "cell_type": "code",
      "execution_count": 6,
      "metadata": {
        "collapsed": false
      },
      "outputs": [],
      "source": [
        "optim.step() #gradient descent"
      ]
    },
    {
      "cell_type": "markdown",
      "metadata": {},
      "source": [
        "At this point, you have everything you need to train your neural network.\n",
        "The below sections detail the workings of autograd - feel free to skip them.\n",
        "\n",
        "\n"
      ]
    },
    {
      "cell_type": "markdown",
      "metadata": {},
      "source": [
        "--------------\n",
        "\n",
        "\n"
      ]
    },
    {
      "cell_type": "markdown",
      "metadata": {},
      "source": [
        "## Differentiation in Autograd\n",
        "Let's take a look at how ``autograd`` collects gradients. We create two tensors ``a`` and ``b`` with\n",
        "``requires_grad=True``. This signals to ``autograd`` that every operation on them should be tracked.\n",
        "\n",
        "\n"
      ]
    },
    {
      "cell_type": "code",
      "execution_count": 7,
      "metadata": {
        "collapsed": false
      },
      "outputs": [
        {
          "name": "stdout",
          "output_type": "stream",
          "text": [
            "tensor([2., 3.], requires_grad=True)\n",
            "tensor([6., 4.], requires_grad=True)\n"
          ]
        }
      ],
      "source": [
        "import torch\n",
        "\n",
        "a = torch.tensor([2., 3.], requires_grad=True)\n",
        "b = torch.tensor([6., 4.], requires_grad=True)\n",
        "print(a)\n",
        "print(b)"
      ]
    },
    {
      "cell_type": "markdown",
      "metadata": {},
      "source": [
        "We create another tensor ``Q`` from ``a`` and ``b``.\n",
        "\n",
        "\\begin{align}Q = 3a^3 - b^2\\end{align}\n",
        "\n"
      ]
    },
    {
      "cell_type": "code",
      "execution_count": 8,
      "metadata": {
        "collapsed": false
      },
      "outputs": [
        {
          "name": "stdout",
          "output_type": "stream",
          "text": [
            "tensor([-12.,  65.], grad_fn=<SubBackward0>)\n"
          ]
        }
      ],
      "source": [
        "Q = 3*a**3 - b**2\n",
        "print(Q)"
      ]
    },
    {
      "cell_type": "markdown",
      "metadata": {},
      "source": [
        "Let's assume ``a`` and ``b`` to be parameters of an NN, and ``Q``\n",
        "to be the error. In NN training, we want gradients of the error\n",
        "w.r.t. parameters, i.e.\n",
        "\n",
        "\\begin{align}\\frac{\\partial Q}{\\partial a} = 9a^2\\end{align}\n",
        "\n",
        "\\begin{align}\\frac{\\partial Q}{\\partial b} = -2b\\end{align}\n",
        "\n",
        "\n",
        "When we call ``.backward()`` on ``Q``, autograd calculates these gradients\n",
        "and stores them in the respective tensors' ``.grad`` attribute.\n",
        "\n",
        "We need to explicitly pass a ``gradient`` argument in ``Q.backward()`` because it is a vector.\n",
        "``gradient`` is a tensor of the same shape as ``Q``, and it represents the\n",
        "gradient of Q w.r.t. itself, i.e.\n",
        "\n",
        "\\begin{align}\\frac{dQ}{dQ} = 1\\end{align}\n",
        "\n",
        "Equivalently, we can also aggregate Q into a scalar and call backward implicitly, like ``Q.sum().backward()``.\n",
        "\n",
        "\n"
      ]
    },
    {
      "cell_type": "code",
      "execution_count": 9,
      "metadata": {
        "collapsed": false
      },
      "outputs": [],
      "source": [
        "external_grad = torch.tensor([1., 1.])\n",
        "Q.backward(gradient=external_grad)"
      ]
    },
    {
      "cell_type": "markdown",
      "metadata": {},
      "source": [
        "Gradients are now deposited in ``a.grad`` and ``b.grad``\n",
        "\n"
      ]
    },
    {
      "cell_type": "code",
      "execution_count": 10,
      "metadata": {
        "collapsed": false
      },
      "outputs": [
        {
          "name": "stdout",
          "output_type": "stream",
          "text": [
            "tensor([True, True])\n",
            "tensor([True, True])\n"
          ]
        }
      ],
      "source": [
        "# check if collected gradients are correct\n",
        "print(9*a**2 == a.grad)\n",
        "print(-2*b == b.grad)"
      ]
    },
    {
      "cell_type": "markdown",
      "metadata": {},
      "source": [
        "### Optional Reading - Vector Calculus using ``autograd``\n",
        "\n",
        "Mathematically, if you have a vector valued function\n",
        "$\\vec{y}=f(\\vec{x})$, then the gradient of $\\vec{y}$ with\n",
        "respect to $\\vec{x}$ is a Jacobian matrix $J$:\n",
        "\n",
        "\\begin{align}J\n",
        "     =\n",
        "      \\left(\\begin{array}{cc}\n",
        "      \\frac{\\partial \\bf{y}}{\\partial x_{1}} &\n",
        "      ... &\n",
        "      \\frac{\\partial \\bf{y}}{\\partial x_{n}}\n",
        "      \\end{array}\\right)\n",
        "     =\n",
        "     \\left(\\begin{array}{ccc}\n",
        "      \\frac{\\partial y_{1}}{\\partial x_{1}} & \\cdots & \\frac{\\partial y_{1}}{\\partial x_{n}}\\\\\n",
        "      \\vdots & \\ddots & \\vdots\\\\\n",
        "      \\frac{\\partial y_{m}}{\\partial x_{1}} & \\cdots & \\frac{\\partial y_{m}}{\\partial x_{n}}\n",
        "      \\end{array}\\right)\\end{align}\n",
        "\n",
        "Generally speaking, ``torch.autograd`` is an engine for computing\n",
        "vector-Jacobian product. That is, given any vector $\\vec{v}$, compute the product\n",
        "$J^{T}\\cdot \\vec{v}$\n",
        "\n",
        "If $\\vec{v}$ happens to be the gradient of a scalar function $l=g\\left(\\vec{y}\\right)$:\n",
        "\n",
        "\\begin{align}\\vec{v}\n",
        "   =\n",
        "   \\left(\\begin{array}{ccc}\\frac{\\partial l}{\\partial y_{1}} & \\cdots & \\frac{\\partial l}{\\partial y_{m}}\\end{array}\\right)^{T}\\end{align}\n",
        "\n",
        "then by the chain rule, the vector-Jacobian product would be the\n",
        "gradient of $l$ with respect to $\\vec{x}$:\n",
        "\n",
        "\\begin{align}J^{T}\\cdot \\vec{v}=\\left(\\begin{array}{ccc}\n",
        "      \\frac{\\partial y_{1}}{\\partial x_{1}} & \\cdots & \\frac{\\partial y_{m}}{\\partial x_{1}}\\\\\n",
        "      \\vdots & \\ddots & \\vdots\\\\\n",
        "      \\frac{\\partial y_{1}}{\\partial x_{n}} & \\cdots & \\frac{\\partial y_{m}}{\\partial x_{n}}\n",
        "      \\end{array}\\right)\\left(\\begin{array}{c}\n",
        "      \\frac{\\partial l}{\\partial y_{1}}\\\\\n",
        "      \\vdots\\\\\n",
        "      \\frac{\\partial l}{\\partial y_{m}}\n",
        "      \\end{array}\\right)=\\left(\\begin{array}{c}\n",
        "      \\frac{\\partial l}{\\partial x_{1}}\\\\\n",
        "      \\vdots\\\\\n",
        "      \\frac{\\partial l}{\\partial x_{n}}\n",
        "      \\end{array}\\right)\\end{align}\n",
        "\n",
        "This characteristic of vector-Jacobian product is what we use in the above example;\n",
        "``external_grad`` represents $\\vec{v}$.\n",
        "\n",
        "\n"
      ]
    },
    {
      "cell_type": "markdown",
      "metadata": {},
      "source": [
        "## Computational Graph\n",
        "\n",
        "Conceptually, autograd keeps a record of data (tensors) & all executed\n",
        "operations (along with the resulting new tensors) in a directed acyclic\n",
        "graph (DAG) consisting of\n",
        "[Function](https://pytorch.org/docs/stable/autograd.html#torch.autograd.Function)_\n",
        "objects. In this DAG, leaves are the input tensors, roots are the output\n",
        "tensors. By tracing this graph from roots to leaves, you can\n",
        "automatically compute the gradients using the chain rule.\n",
        "\n",
        "In a forward pass, autograd does two things simultaneously:\n",
        "\n",
        "- run the requested operation to compute a resulting tensor, and\n",
        "- maintain the operation’s *gradient function* in the DAG.\n",
        "\n",
        "The backward pass kicks off when ``.backward()`` is called on the DAG\n",
        "root. ``autograd`` then:\n",
        "\n",
        "- computes the gradients from each ``.grad_fn``,\n",
        "- accumulates them in the respective tensor’s ``.grad`` attribute, and\n",
        "- using the chain rule, propagates all the way to the leaf tensors.\n",
        "\n",
        "Below is a visual representation of the DAG in our example. In the graph,\n",
        "the arrows are in the direction of the forward pass. The nodes represent the backward functions\n",
        "of each operation in the forward pass. The leaf nodes in blue represent our leaf tensors ``a`` and ``b``.\n",
        "\n",
        ".. figure:: /_static/img/dag_autograd.png\n",
        "\n",
        "<div class=\"alert alert-info\"><h4>Note</h4><p>**DAGs are dynamic in PyTorch**\n",
        "  An important thing to note is that the graph is recreated from scratch; after each\n",
        "  ``.backward()`` call, autograd starts populating a new graph. This is\n",
        "  exactly what allows you to use control flow statements in your model;\n",
        "  you can change the shape, size and operations at every iteration if\n",
        "  needed.</p></div>\n",
        "\n",
        "### Exclusion from the DAG\n",
        "\n",
        "``torch.autograd`` tracks operations on all tensors which have their\n",
        "``requires_grad`` flag set to ``True``. For tensors that don’t require\n",
        "gradients, setting this attribute to ``False`` excludes it from the\n",
        "gradient computation DAG.\n",
        "\n",
        "The output tensor of an operation will require gradients even if only a\n",
        "single input tensor has ``requires_grad=True``.\n",
        "\n",
        "\n"
      ]
    },
    {
      "cell_type": "code",
      "execution_count": null,
      "metadata": {
        "collapsed": false
      },
      "outputs": [],
      "source": [
        "x = torch.rand(5, 5)\n",
        "y = torch.rand(5, 5)\n",
        "z = torch.rand((5, 5), requires_grad=True)\n",
        "\n",
        "a = x + y\n",
        "print(f\"Does `a` require gradients? : {a.requires_grad}\")\n",
        "b = x + z\n",
        "print(f\"Does `b` require gradients?: {b.requires_grad}\")"
      ]
    },
    {
      "cell_type": "markdown",
      "metadata": {},
      "source": [
        "In a NN, parameters that don't compute gradients are usually called **frozen parameters**.\n",
        "It is useful to \"freeze\" part of your model if you know in advance that you won't need the gradients of those parameters\n",
        "(this offers some performance benefits by reducing autograd computations).\n",
        "\n",
        "In finetuning, we freeze most of the model and typically only modify the classifier layers to make predictions on new labels.\n",
        "Let's walk through a small example to demonstrate this. As before, we load a pretrained resnet18 model, and freeze all the parameters.\n",
        "\n"
      ]
    },
    {
      "cell_type": "code",
      "execution_count": null,
      "metadata": {
        "collapsed": false
      },
      "outputs": [],
      "source": [
        "from torch import nn, optim\n",
        "\n",
        "model = resnet18(weights=ResNet18_Weights.DEFAULT)\n",
        "\n",
        "# Freeze all the parameters in the network\n",
        "for param in model.parameters():\n",
        "    param.requires_grad = False"
      ]
    },
    {
      "cell_type": "markdown",
      "metadata": {},
      "source": [
        "Let's say we want to finetune the model on a new dataset with 10 labels.\n",
        "In resnet, the classifier is the last linear layer ``model.fc``.\n",
        "We can simply replace it with a new linear layer (unfrozen by default)\n",
        "that acts as our classifier.\n",
        "\n"
      ]
    },
    {
      "cell_type": "code",
      "execution_count": null,
      "metadata": {
        "collapsed": false
      },
      "outputs": [],
      "source": [
        "model.fc = nn.Linear(512, 10)"
      ]
    },
    {
      "cell_type": "markdown",
      "metadata": {},
      "source": [
        "Now all parameters in the model, except the parameters of ``model.fc``, are frozen.\n",
        "The only parameters that compute gradients are the weights and bias of ``model.fc``.\n",
        "\n"
      ]
    },
    {
      "cell_type": "code",
      "execution_count": null,
      "metadata": {
        "collapsed": false
      },
      "outputs": [],
      "source": [
        "# Optimize only the classifier\n",
        "optimizer = optim.SGD(model.parameters(), lr=1e-2, momentum=0.9)"
      ]
    },
    {
      "cell_type": "markdown",
      "metadata": {},
      "source": [
        "Notice although we register all the parameters in the optimizer,\n",
        "the only parameters that are computing gradients (and hence updated in gradient descent)\n",
        "are the weights and bias of the classifier.\n",
        "\n",
        "The same exclusionary functionality is available as a context manager in\n",
        "[torch.no_grad()](https://pytorch.org/docs/stable/generated/torch.no_grad.html)_\n",
        "\n",
        "\n"
      ]
    },
    {
      "cell_type": "markdown",
      "metadata": {},
      "source": [
        "--------------\n",
        "\n",
        "\n"
      ]
    },
    {
      "cell_type": "markdown",
      "metadata": {},
      "source": [
        "## Further readings:\n",
        "\n",
        "-  [In-place operations & Multithreaded Autograd](https://pytorch.org/docs/stable/notes/autograd.html)_\n",
        "-  [Example implementation of reverse-mode autodiff](https://colab.research.google.com/drive/1VpeE6UvEPRz9HmsHh1KS0XxXjYu533EC)_\n",
        "\n"
      ]
    }
  ],
  "metadata": {
    "kernelspec": {
      "display_name": "pytorch_nn_env",
      "language": "python",
      "name": "python3"
    },
    "language_info": {
      "codemirror_mode": {
        "name": "ipython",
        "version": 3
      },
      "file_extension": ".py",
      "mimetype": "text/x-python",
      "name": "python",
      "nbconvert_exporter": "python",
      "pygments_lexer": "ipython3",
      "version": "3.9.16"
    },
    "vscode": {
      "interpreter": {
        "hash": "62ae44e4b45b32b871b0fe9491e12d6abcfa335a2f8d772f92bc825053e02757"
      }
    }
  },
  "nbformat": 4,
  "nbformat_minor": 0
}
