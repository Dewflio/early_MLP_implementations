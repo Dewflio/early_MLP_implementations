{
 "cells": [
  {
   "cell_type": "code",
   "execution_count": null,
   "metadata": {},
   "outputs": [],
   "source": [
    "import torch\n",
    "import torch.nn as nn\n",
    "import torch.nn.functional as F\n",
    "from torch import Tensor\n",
    "from torchvision.models import resnet18, ResNet18_Weights, ResNet\n",
    "import gzip\n",
    "import random\n",
    "\n",
    "from torchvision import transforms\n",
    "from PIL import Image"
   ]
  },
  {
   "attachments": {},
   "cell_type": "markdown",
   "metadata": {},
   "source": [
    "### Creating a customized Linear Layer and modified ResNet\n",
    "\n",
    "The `ShuffledLinear` class extends the `nn.modules.Linear` class and gives it an alternate forward method which shuffles the weights column-wise before matrix multiplication.\n",
    "\n",
    "The `ShuffledResnet18` class extending the `nn.Module` superclass copies the layout (and weights) of a pretrained `resnet18` net, and swaps the last (Linear) layer for the `ShuffledLinear` layer, and initializes its weights and biases by copying them from the original Linear layer of resnet18."
   ]
  },
  {
   "cell_type": "code",
   "execution_count": null,
   "metadata": {},
   "outputs": [],
   "source": [
    "class ShuffledLinear(nn.modules.Linear):\n",
    "    def __init__(self, *args):\n",
    "        super(ShuffledLinear, self).__init__(*args)\n",
    "    def forward(self, input: Tensor) -> Tensor:\n",
    "        indices = torch.argsort(torch.rand_like(self.weight.T), dim=-1)\n",
    "        shuffled_W_T = torch.gather(self.weight.T, dim=-1, index=indices)\n",
    "        shuffled_W = shuffled_W_T.T\n",
    "        return F.linear(input, shuffled_W, self.bias)"
   ]
  },
  {
   "cell_type": "code",
   "execution_count": null,
   "metadata": {},
   "outputs": [],
   "source": [
    "class ShuffledResnet18(nn.Module):\n",
    "    def __init__(self, weights):\n",
    "        super(ShuffledResnet18, self).__init__()\n",
    "        self.resnet_model = resnet18(weights=weights)\n",
    "        self.layers = []\n",
    "        for i, child in enumerate(self.resnet_model.children()):\n",
    "            if i == len(list(self.resnet_model.children())) - 1:\n",
    "                modified_layer = ShuffledLinear(512, 1000, True)\n",
    "                modified_layer.weight = child.weight\n",
    "                modified_layer.bias = child.bias\n",
    "                self.layers.append(modified_layer)\n",
    "            else:\n",
    "                self.layers.append(child)\n",
    "            pass\n",
    "        \n",
    "    def forward(self, x: Tensor) -> Tensor:\n",
    "        for i, layer in enumerate(self.layers):\n",
    "            if i == len(self.layers) - 1:\n",
    "                x = torch.flatten(x, 1)\n",
    "            x = layer(x)\n",
    "        return x"
   ]
  },
  {
   "cell_type": "code",
   "execution_count": null,
   "metadata": {},
   "outputs": [],
   "source": [
    "def print_topk(pred, k, categories):\n",
    "    probabilities = torch.nn.functional.softmax(pred[0], dim=0)\n",
    "    topk_prob, topk_catid = torch.topk(probabilities, 5)\n",
    "    for i in range(topk_prob.size(0)):\n",
    "        print(categories[topk_catid[i]], topk_prob[i].item())"
   ]
  },
  {
   "cell_type": "code",
   "execution_count": null,
   "metadata": {},
   "outputs": [],
   "source": [
    "with open(\"../data/resnet18_set/imagenet_classes.txt\", \"r\") as f:\n",
    "    categories = [s.strip() for s in f.readlines()]"
   ]
  },
  {
   "cell_type": "code",
   "execution_count": null,
   "metadata": {},
   "outputs": [],
   "source": [
    "def image_to_tensor(image, reshape_dims=(224, 224)):\n",
    "    transform_pipe = transforms.Compose([\n",
    "        transforms.Resize(reshape_dims),\n",
    "        transforms.CenterCrop((224,224)),\n",
    "        transforms.ToTensor(),\n",
    "        transforms.Normalize(\n",
    "        mean=[0.485, 0.456, 0.406],\n",
    "        std=[0.229, 0.224, 0.225]\n",
    "    )])\n",
    "    img_tensor = transform_pipe(image)\n",
    "    return torch.unsqueeze(img_tensor, 0)\n"
   ]
  },
  {
   "cell_type": "code",
   "execution_count": null,
   "metadata": {},
   "outputs": [],
   "source": [
    "img = Image.open(\"../data/resnet18_set/image.jpg\")\n",
    "img_tensor = image_to_tensor(img)\n",
    "img\n",
    "\n"
   ]
  },
  {
   "cell_type": "code",
   "execution_count": null,
   "metadata": {},
   "outputs": [],
   "source": [
    "res = resnet18(weights=ResNet18_Weights.DEFAULT)\n",
    "res.eval()\n",
    "pred = res.forward(img_tensor)\n",
    "print_topk(pred=pred, k=5, categories=categories)"
   ]
  },
  {
   "cell_type": "code",
   "execution_count": null,
   "metadata": {},
   "outputs": [],
   "source": [
    "model = ShuffledResnet18(weights=ResNet18_Weights.DEFAULT)\n",
    "model.eval()\n",
    "pred = model.forward(img_tensor)\n",
    "print_topk(pred=pred, k=5, categories=categories)"
   ]
  },
  {
   "attachments": {},
   "cell_type": "markdown",
   "metadata": {},
   "source": [
    "### Creating a Shuffled Linear Layer with variable number of shuffled neurons"
   ]
  },
  {
   "cell_type": "code",
   "execution_count": null,
   "metadata": {},
   "outputs": [],
   "source": [
    "class ShuffledLinearVariable(nn.modules.Linear):\n",
    "    def __init__(self, *args, n_shuffled=None, printing=False):\n",
    "        super(ShuffledLinearVariable, self).__init__(*args)\n",
    "        self.n_shuffled = n_shuffled if (n_shuffled is not None and n_shuffled < self.in_features) else self.in_features\n",
    "        self.printing = printing\n",
    "\n",
    "    def change_n_shuffled(self, n_shuffled: int):\n",
    "        self.n_shuffled = n_shuffled if (n_shuffled is not None and n_shuffled < self.in_features) else self.in_features\n",
    "        return self.n_shuffled\n",
    "    \n",
    "    def forward(self, input: Tensor) -> Tensor:\n",
    "        indices = torch.argsort(torch.rand_like(self.weight.T), dim=-1)\n",
    "\n",
    "        if self.printing: print(f\"Indices:\\n{indices}\")\n",
    "        if self.n_shuffled < self.in_features:\n",
    "            rows_to_sort = random.sample(range(self.in_features), (self.in_features - self.n_shuffled))\n",
    "            sorted_rows, _ = torch.sort(indices[rows_to_sort], dim=1)\n",
    "            indices[rows_to_sort] = sorted_rows\n",
    "            if self.printing: print(f\"Rows to unshuffle:\\n{rows_to_sort}\\nIndices:\\n{indices}\")\n",
    "\n",
    "        shuffled_W_T = torch.gather(self.weight.T, dim=-1, index=indices)\n",
    "        shuffled_W = shuffled_W_T.T\n",
    "        return F.linear(input, shuffled_W, self.bias)"
   ]
  },
  {
   "cell_type": "code",
   "execution_count": null,
   "metadata": {},
   "outputs": [],
   "source": [
    "class ShuffledResnet18Variable(nn.Module):\n",
    "    def __init__(self, weights):\n",
    "        super(ShuffledResnet18Variable, self).__init__()\n",
    "        self.resnet_model = resnet18(weights=weights)\n",
    "        self.layers = []\n",
    "        self.modified_layer: ShuffledLinearVariable = None\n",
    "        for i, child in enumerate(self.resnet_model.children()):\n",
    "            if i == len(list(self.resnet_model.children())) - 1:\n",
    "                modified_layer = ShuffledLinearVariable(512, 1000, True)\n",
    "                modified_layer.weight = child.weight\n",
    "                modified_layer.bias = child.bias\n",
    "                self.layers.append(modified_layer)\n",
    "                self.modified_layer = self.layers[-1]\n",
    "            else:\n",
    "                self.layers.append(child)\n",
    "            pass\n",
    "    \n",
    "    def change_n_shuffled(self, n_shuffled: int):\n",
    "        return self.modified_layer.change_n_shuffled(n_shuffled=n_shuffled)\n",
    "\n",
    "    def forward(self, x: Tensor) -> Tensor:\n",
    "        for i, layer in enumerate(self.layers):\n",
    "            if i == len(self.layers) - 1:\n",
    "                x = torch.flatten(x, 1)\n",
    "            x = layer(x)\n",
    "        return x"
   ]
  },
  {
   "cell_type": "code",
   "execution_count": null,
   "metadata": {},
   "outputs": [],
   "source": [
    "test_input_size, test_output_size = (8, 3)\n",
    "test_input = torch.rand(test_input_size)\n",
    "test_linear = ShuffledLinearVariable(test_input_size, test_output_size, n_shuffled=3, printing=True)\n",
    "test_linear.forward(test_input)"
   ]
  },
  {
   "attachments": {},
   "cell_type": "markdown",
   "metadata": {},
   "source": [
    "### Loading the Dataset"
   ]
  },
  {
   "cell_type": "code",
   "execution_count": null,
   "metadata": {},
   "outputs": [],
   "source": [
    "import os\n",
    "print(len(os.listdir(\"../data/resnet18_set/images_unpacked\")))"
   ]
  },
  {
   "cell_type": "code",
   "execution_count": null,
   "metadata": {},
   "outputs": [],
   "source": [
    "transform_pipe = transforms.Compose([\n",
    "        transforms.Resize((224,224)),\n",
    "        transforms.CenterCrop((224,224)),\n",
    "        transforms.ToTensor(),\n",
    "        transforms.Normalize(\n",
    "        mean=[0.485, 0.456, 0.406],\n",
    "        std=[0.229, 0.224, 0.225]\n",
    "    )])"
   ]
  },
  {
   "cell_type": "code",
   "execution_count": null,
   "metadata": {},
   "outputs": [],
   "source": [
    "from torchvision.datasets import ImageFolder\n",
    "\n",
    "train_set = ImageFolder(\"../data/resnet18_set/images_unpacked/\", transform=transform_pipe)\n"
   ]
  }
 ],
 "metadata": {
  "kernelspec": {
   "display_name": "pytorch_nn_env",
   "language": "python",
   "name": "python3"
  },
  "language_info": {
   "codemirror_mode": {
    "name": "ipython",
    "version": 3
   },
   "file_extension": ".py",
   "mimetype": "text/x-python",
   "name": "python",
   "nbconvert_exporter": "python",
   "pygments_lexer": "ipython3",
   "version": "3.9.16"
  },
  "orig_nbformat": 4
 },
 "nbformat": 4,
 "nbformat_minor": 2
}
