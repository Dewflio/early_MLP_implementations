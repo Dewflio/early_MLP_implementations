{
 "cells": [
  {
   "cell_type": "code",
   "execution_count": 125,
   "metadata": {},
   "outputs": [],
   "source": [
    "import torch\n",
    "import torch.nn as nn\n",
    "import torch.nn.functional as F\n",
    "from torch import Tensor\n",
    "from torchvision.models import resnet18, ResNet18_Weights, ResNet\n",
    "from pprint import pprint\n",
    "import gzip\n",
    "\n",
    "from torchvision import transforms\n",
    "from PIL import Image"
   ]
  },
  {
   "cell_type": "code",
   "execution_count": 11,
   "metadata": {},
   "outputs": [],
   "source": [
    "class ShuffledLinear(nn.modules.Linear):\n",
    "    def __init__(self, *args):\n",
    "        super(ShuffledLinear, self).__init__(*args)\n",
    "    def forward(self, input: Tensor) -> Tensor:\n",
    "        indices = torch.argsort(torch.rand_like(self.weight.T), dim=-1)\n",
    "        shuffled_W_T = torch.gather(self.weight.T, dim=-1, index=indices)\n",
    "        shuffled_W = shuffled_W_T.T\n",
    "        return F.linear(input, shuffled_W, self.bias)"
   ]
  },
  {
   "cell_type": "code",
   "execution_count": 90,
   "metadata": {},
   "outputs": [],
   "source": [
    "class ShuffledResnet18(nn.Module):\n",
    "    def __init__(self, weights):\n",
    "        super(ShuffledResnet18, self).__init__()\n",
    "        self.resnet_model = resnet18(weights=weights)\n",
    "        self.layers = []\n",
    "        for i, child in enumerate(self.resnet_model.children()):\n",
    "            if i == len(list(self.resnet_model.children())) - 1:\n",
    "                modified_layer = ShuffledLinear(512, 1000, True)\n",
    "                modified_layer.weight = child.weight\n",
    "                modified_layer.bias = child.bias\n",
    "                self.layers.append(modified_layer)\n",
    "            else:\n",
    "                self.layers.append(child)\n",
    "            pass\n",
    "        \n",
    "    def forward(self, x: Tensor) -> Tensor:\n",
    "        for i, layer in enumerate(self.layers):\n",
    "            if i == len(self.layers) - 1:\n",
    "                x = torch.flatten(x, 1)\n",
    "            x = layer(x)\n",
    "        return x"
   ]
  },
  {
   "cell_type": "code",
   "execution_count": 137,
   "metadata": {},
   "outputs": [],
   "source": [
    "def print_topk(pred, k, categories):\n",
    "    probabilities = torch.nn.functional.softmax(pred[0], dim=0)\n",
    "    topk_prob, topk_catid = torch.topk(probabilities, 5)\n",
    "    for i in range(topk_prob.size(0)):\n",
    "        print(categories[topk_catid[i]], topk_prob[i].item())"
   ]
  },
  {
   "cell_type": "code",
   "execution_count": 105,
   "metadata": {},
   "outputs": [],
   "source": [
    "with open(\"../data/restnet18_set/imagenet_classes.txt\", \"r\") as f:\n",
    "    categories = [s.strip() for s in f.readlines()]"
   ]
  },
  {
   "cell_type": "code",
   "execution_count": 97,
   "metadata": {},
   "outputs": [],
   "source": [
    "img = Image.open(\"../data/restnet18_set/image.jpg\")\n",
    "transform_pipe = transforms.Compose([\n",
    "        transforms.Resize(256),\n",
    "        transforms.CenterCrop(224),\n",
    "        transforms.ToTensor(),\n",
    "        transforms.Normalize(\n",
    "        mean=[0.485, 0.456, 0.406],\n",
    "        std=[0.229, 0.224, 0.225]\n",
    "    )])\n",
    "img_tensor = transform_pipe(img)\n",
    "img_tensor = torch.unsqueeze(img_tensor, 0)\n",
    "\n"
   ]
  },
  {
   "cell_type": "code",
   "execution_count": 139,
   "metadata": {},
   "outputs": [
    {
     "name": "stdout",
     "output_type": "stream",
     "text": [
      "comic book 0.9730576276779175\n",
      "book jacket 0.023433461785316467\n",
      "packet 0.0005408110446296632\n",
      "jigsaw puzzle 0.00031631538877263665\n",
      "wig 0.00021806337463203818\n"
     ]
    }
   ],
   "source": [
    "res = resnet18(weights=ResNet18_Weights.DEFAULT)\n",
    "res.eval()\n",
    "pred = res.forward(img_tensor)\n",
    "print_topk(pred=pred, k=5, categories=categories)"
   ]
  },
  {
   "cell_type": "code",
   "execution_count": 138,
   "metadata": {},
   "outputs": [
    {
     "name": "stdout",
     "output_type": "stream",
     "text": [
      "coffeepot 0.12048495560884476\n",
      "traffic light 0.10936012864112854\n",
      "yawl 0.05186710134148598\n",
      "scuba diver 0.04510520398616791\n",
      "siamang 0.027079632505774498\n"
     ]
    }
   ],
   "source": [
    "model = ShuffledResnet18(weights=ResNet18_Weights.DEFAULT)\n",
    "model.eval()\n",
    "pred = model.forward(img_tensor)\n",
    "print_topk(pred=pred, k=5, categories=categories)"
   ]
  }
 ],
 "metadata": {
  "kernelspec": {
   "display_name": "pytorch_nn_env",
   "language": "python",
   "name": "python3"
  },
  "language_info": {
   "codemirror_mode": {
    "name": "ipython",
    "version": 3
   },
   "file_extension": ".py",
   "mimetype": "text/x-python",
   "name": "python",
   "nbconvert_exporter": "python",
   "pygments_lexer": "ipython3",
   "version": "3.9.16"
  },
  "orig_nbformat": 4
 },
 "nbformat": 4,
 "nbformat_minor": 2
}
