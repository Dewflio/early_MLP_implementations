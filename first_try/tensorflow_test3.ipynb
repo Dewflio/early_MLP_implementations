{
 "cells": [
  {
   "attachments": {},
   "cell_type": "markdown",
   "metadata": {},
   "source": [
    "### Simple Convolutional NN implementation with tf.keras\n",
    "\n",
    "Following tutorial from: https://www.youtube.com/watch?v=x_VrgWTKkiM&ab_channel=TensorFlow"
   ]
  },
  {
   "cell_type": "code",
   "execution_count": 1,
   "metadata": {},
   "outputs": [],
   "source": [
    "import tensorflow as tf\n",
    "from tensorflow import keras\n",
    "import numpy as np"
   ]
  }
 ],
 "metadata": {
  "kernelspec": {
   "display_name": "dp_nn_env",
   "language": "python",
   "name": "python3"
  },
  "language_info": {
   "codemirror_mode": {
    "name": "ipython",
    "version": 3
   },
   "file_extension": ".py",
   "mimetype": "text/x-python",
   "name": "python",
   "nbconvert_exporter": "python",
   "pygments_lexer": "ipython3",
   "version": "3.9.16"
  },
  "orig_nbformat": 4,
  "vscode": {
   "interpreter": {
    "hash": "41ea5e9b777f8645252874eaefd35016a62d6c7634ad06ad60b3d12a86cf7869"
   }
  }
 },
 "nbformat": 4,
 "nbformat_minor": 2
}
