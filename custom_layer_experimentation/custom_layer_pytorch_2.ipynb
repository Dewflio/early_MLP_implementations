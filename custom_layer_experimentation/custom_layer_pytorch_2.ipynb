{
 "cells": [
  {
   "cell_type": "code",
   "execution_count": 3,
   "metadata": {},
   "outputs": [],
   "source": [
    "import torch\n",
    "import torch.nn as nn\n",
    "import torch.nn.functional as F\n",
    "import numpy as np"
   ]
  },
  {
   "cell_type": "code",
   "execution_count": 11,
   "metadata": {},
   "outputs": [],
   "source": [
    "class ShuffleLinear(nn.Module):\n",
    "    def __init__(self, in_features, out_features):\n",
    "        super(ShuffleLinear, self).__init__()\n",
    "        self.in_features = in_features\n",
    "        self.out_features = out_features\n",
    "        self.W = nn.Parameter(torch.Tensor(out_features, in_features))\n",
    "        self.b = nn.Parameter(torch.Tensor(out_features))\n",
    "        self.init_parameters()\n",
    "\n",
    "    def init_parameters(self):\n",
    "        nn.init.normal_(self.W, std=0.1)\n",
    "        nn.init.constant_(self.b, 0)\n",
    "\n",
    "    def forward(self, x):\n",
    "        print(f\"Size of input tensor: {x.size()}\\nSize of W tensor {self.W.size()}\")\n",
    "        print(f\"Input tensor: {x}\\nWeight tensor: {self.W}\")\n",
    "        \n",
    "        if len(self.W.size()) > 1:\n",
    "            for i, x in enumerate(self.W):\n",
    "                print(x)\n",
    "        # Perform the matrix multiplication\n",
    "        output = torch.matmul(x, self.W.t())\n",
    "        \n",
    "        print(f\"output: {output}\")\n",
    "        output = output + self.b\n",
    "        return output\n",
    "    "
   ]
  },
  {
   "cell_type": "code",
   "execution_count": 5,
   "metadata": {},
   "outputs": [
    {
     "name": "stdout",
     "output_type": "stream",
     "text": [
      "tensor([1., 2., 3.])\n"
     ]
    }
   ],
   "source": [
    "inputX = torch.Tensor(np.arange(1, 4, dtype=float))\n",
    "print(inputX)"
   ]
  },
  {
   "cell_type": "code",
   "execution_count": 12,
   "metadata": {},
   "outputs": [
    {
     "name": "stdout",
     "output_type": "stream",
     "text": [
      "Size of input tensor: torch.Size([3])\n",
      "Size of W tensor torch.Size([4, 3])\n",
      "Input tensor: tensor([1., 2., 3.])\n",
      "Weight tensor: Parameter containing:\n",
      "tensor([[ 0.0325,  0.0239, -0.0041],\n",
      "        [ 0.0568,  0.1109,  0.1007],\n",
      "        [ 0.0327,  0.0724, -0.0115],\n",
      "        [-0.0549, -0.0090,  0.0653]], requires_grad=True)\n",
      "tensor([ 0.0325,  0.0239, -0.0041], grad_fn=<UnbindBackward0>)\n",
      "tensor([0.0568, 0.1109, 0.1007], grad_fn=<UnbindBackward0>)\n",
      "tensor([ 0.0327,  0.0724, -0.0115], grad_fn=<UnbindBackward0>)\n",
      "tensor([-0.0549, -0.0090,  0.0653], grad_fn=<UnbindBackward0>)\n",
      "output: tensor([-0.0023,  0.0025, -0.0032,  0.0074], grad_fn=<SqueezeBackward3>)\n",
      "tensor([-0.0023,  0.0025, -0.0032,  0.0074], grad_fn=<AddBackward0>)\n"
     ]
    }
   ],
   "source": [
    "shuffle = ShuffleLinear(3, 4)\n",
    "print(shuffle.forward(inputX))"
   ]
  },
  {
   "cell_type": "code",
   "execution_count": 13,
   "metadata": {},
   "outputs": [
    {
     "name": "stdout",
     "output_type": "stream",
     "text": [
      "Size of input tensor: torch.Size([3])\n",
      "Size of W tensor torch.Size([4, 3])\n",
      "Input tensor: tensor([1., 2., 3.])\n",
      "Weight tensor: Parameter containing:\n",
      "tensor([[-0.0961,  0.1641,  0.0316],\n",
      "        [ 0.0759,  0.0096, -0.0827],\n",
      "        [ 0.1406,  0.0501, -0.1838],\n",
      "        [-0.1202, -0.0066,  0.0109]], requires_grad=True)\n",
      "tensor([-0.0961,  0.1641,  0.0316], grad_fn=<UnbindBackward0>)\n",
      "tensor([ 0.0759,  0.0096, -0.0827], grad_fn=<UnbindBackward0>)\n",
      "tensor([ 0.1406,  0.0501, -0.1838], grad_fn=<UnbindBackward0>)\n",
      "tensor([-0.1202, -0.0066,  0.0109], grad_fn=<UnbindBackward0>)\n",
      "output: tensor([ 0.0108, -0.0101, -0.0192,  0.0146], grad_fn=<SqueezeBackward3>)\n",
      "Size of input tensor: torch.Size([4])\n",
      "Size of W tensor torch.Size([2, 4])\n",
      "Input tensor: tensor([ 0.0108, -0.0101, -0.0192,  0.0146], grad_fn=<AddBackward0>)\n",
      "Weight tensor: Parameter containing:\n",
      "tensor([[ 0.0958,  0.0461, -0.0107, -0.0646],\n",
      "        [-0.0569, -0.0848,  0.0499, -0.0972]], requires_grad=True)\n",
      "tensor([ 0.0958,  0.0461, -0.0107, -0.0646], grad_fn=<UnbindBackward0>)\n",
      "tensor([-0.0569, -0.0848,  0.0499, -0.0972], grad_fn=<UnbindBackward0>)\n",
      "output: tensor([-0.0036,  0.0224], grad_fn=<SqueezeBackward3>)\n"
     ]
    },
    {
     "data": {
      "text/plain": [
       "tensor([-0.0036,  0.0224], grad_fn=<AddBackward0>)"
      ]
     },
     "execution_count": 13,
     "metadata": {},
     "output_type": "execute_result"
    }
   ],
   "source": [
    "sm1 = ShuffleLinear(3, 4)\n",
    "sm2 = ShuffleLinear(4, 2)\n",
    "sm2.forward(sm1.forward(inputX))"
   ]
  },
  {
   "cell_type": "code",
   "execution_count": 15,
   "metadata": {},
   "outputs": [
    {
     "name": "stdout",
     "output_type": "stream",
     "text": [
      "Parameter containing:\n",
      "tensor([[[4.2320e+21, 8.6276e+00, 4.6317e+27, 4.3065e+21, 7.6724e+34],\n",
      "         [3.0345e+32, 4.9639e+28, 2.7946e+20, 2.0535e-19, 7.2128e+22],\n",
      "         [1.3741e+22, 1.6673e+19, 6.6830e+22, 3.2483e+33, 1.9690e-19],\n",
      "         [6.8589e+22, 1.3340e+31, 1.1708e-19, 7.2128e+22, 1.3741e+22]],\n",
      "\n",
      "        [[1.6673e+19, 6.6830e+22, 6.2618e+22, 4.7428e+30, 1.1096e+27],\n",
      "         [1.2102e+25, 4.9658e+28, 7.1839e+22, 2.5045e-12, 7.5555e+31],\n",
      "         [4.5144e+27, 1.0084e-08, 1.8037e+28, 1.7237e+25, 1.0755e-11],\n",
      "         [9.1041e-12, 6.2609e+22, 4.7428e+30, 1.8461e+20, 9.0941e-04]],\n",
      "\n",
      "        [[2.6908e+20, 4.4367e+27, 5.1931e-11, 1.3570e-14, 1.8888e+31],\n",
      "         [1.2712e+31, 3.2745e-12, 7.5555e+31, 2.7205e+23, 5.9667e-02],\n",
      "         [1.2102e+25, 1.1839e+22, 4.3317e-02, 1.4586e-19, 2.0704e-19],\n",
      "         [1.3819e-08, 2.5178e-12, 1.4583e-19, 1.8888e+31, 1.9421e+20]]],\n",
      "       requires_grad=True)\n"
     ]
    }
   ],
   "source": [
    "test = nn.Parameter(torch.Tensor(3, 4, 5))\n",
    "print(test)"
   ]
  }
 ],
 "metadata": {
  "kernelspec": {
   "display_name": "pytorch_nn_env",
   "language": "python",
   "name": "python3"
  },
  "language_info": {
   "codemirror_mode": {
    "name": "ipython",
    "version": 3
   },
   "file_extension": ".py",
   "mimetype": "text/x-python",
   "name": "python",
   "nbconvert_exporter": "python",
   "pygments_lexer": "ipython3",
   "version": "3.9.16"
  },
  "orig_nbformat": 4
 },
 "nbformat": 4,
 "nbformat_minor": 2
}
