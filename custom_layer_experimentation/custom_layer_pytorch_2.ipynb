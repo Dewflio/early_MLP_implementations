{
 "cells": [
  {
   "cell_type": "code",
   "execution_count": 2,
   "metadata": {},
   "outputs": [],
   "source": [
    "import torch\n",
    "import torch.nn as nn\n",
    "import torch.nn.functional as F\n",
    "import numpy as np"
   ]
  },
  {
   "cell_type": "code",
   "execution_count": 4,
   "metadata": {},
   "outputs": [],
   "source": [
    "class ShuffleLinear(nn.Module):\n",
    "    def __init__(self, in_features, out_features):\n",
    "        super(ShuffleLinear, self).__init__()\n",
    "        self.in_features = in_features\n",
    "        self.out_features = out_features\n",
    "        self.W = nn.Parameter(torch.Tensor(out_features, in_features))\n",
    "        self.b = nn.Parameter(torch.Tensor(out_features))\n",
    "        self.init_parameters()\n",
    "\n",
    "    def init_parameters(self):\n",
    "        nn.init.normal_(self.W, std=0.1)\n",
    "        nn.init.constant_(self.b, 0)\n",
    "\n",
    "    def forward(self, x):\n",
    "        print(f\"Size of input tensor: {x.size()}\\nSize of W tensor {self.W.size()}\")\n",
    "        \n",
    "        indices = torch.argsort(torch.rand_like(self.W.T), dim=-1)\n",
    "        shuffled_W_T = torch.gather(self.W.T, dim=-1, index=indices)\n",
    "\n",
    "        print(f\"Input: {x}\\nWeights:\\n{self.W}\\nTransposed Weight:\\n{self.W.T}\\nIndices:\\n{indices}\\nShuffled T Weights:\\n{shuffled_W_T}\\nShuffled Weights:\\n{shuffled_W_T.T}\")\n",
    "\n",
    "        # Perform the matrix multiplication\n",
    "        output = torch.matmul(x, self.W.t())\n",
    "        output += self.b\n",
    "        shuffled_output = torch.matmul(x, shuffled_W_T)\n",
    "        shuffled_output += self.b\n",
    "        print(f\"Normal Output:\\n{output}\\nShuffled output:\\n{shuffled_output}\")\n",
    "        return output\n",
    "    "
   ]
  },
  {
   "cell_type": "code",
   "execution_count": 5,
   "metadata": {},
   "outputs": [
    {
     "name": "stdout",
     "output_type": "stream",
     "text": [
      "tensor([1., 2., 3.])\n"
     ]
    }
   ],
   "source": [
    "inputX = torch.Tensor(np.arange(1, 4, dtype=float))\n",
    "print(inputX)"
   ]
  },
  {
   "cell_type": "code",
   "execution_count": 6,
   "metadata": {},
   "outputs": [
    {
     "name": "stdout",
     "output_type": "stream",
     "text": [
      "Size of input tensor: torch.Size([3])\n",
      "Size of W tensor torch.Size([4, 3])\n",
      "Input: tensor([1., 2., 3.])\n",
      "Weights:\n",
      "Parameter containing:\n",
      "tensor([[ 0.0476, -0.0828, -0.1888],\n",
      "        [-0.1206, -0.0245,  0.2130],\n",
      "        [-0.0552,  0.0270, -0.0087],\n",
      "        [-0.1820,  0.1950,  0.0184]], requires_grad=True)\n",
      "Transposed Weight:\n",
      "tensor([[ 0.0476, -0.1206, -0.0552, -0.1820],\n",
      "        [-0.0828, -0.0245,  0.0270,  0.1950],\n",
      "        [-0.1888,  0.2130, -0.0087,  0.0184]], grad_fn=<PermuteBackward0>)\n",
      "Indices:\n",
      "tensor([[1, 0, 3, 2],\n",
      "        [1, 0, 3, 2],\n",
      "        [1, 2, 0, 3]])\n",
      "Shuffled T Weights:\n",
      "tensor([[-0.1206,  0.0476, -0.1820, -0.0552],\n",
      "        [-0.0245, -0.0828,  0.1950,  0.0270],\n",
      "        [ 0.2130, -0.0087, -0.1888,  0.0184]], grad_fn=<GatherBackward0>)\n",
      "Shuffled Weights:\n",
      "tensor([[-0.1206, -0.0245,  0.2130],\n",
      "        [ 0.0476, -0.0828, -0.0087],\n",
      "        [-0.1820,  0.1950, -0.1888],\n",
      "        [-0.0552,  0.0270,  0.0184]], grad_fn=<PermuteBackward0>)\n",
      "Normal Output:\n",
      "tensor([-0.6842,  0.4694, -0.0271,  0.2633], grad_fn=<AddBackward0>)\n",
      "Shuffled output:\n",
      "tensor([ 0.4694, -0.1439, -0.3583,  0.0542], grad_fn=<AddBackward0>)\n"
     ]
    },
    {
     "data": {
      "text/plain": [
       "tensor([-0.6842,  0.4694, -0.0271,  0.2633], grad_fn=<AddBackward0>)"
      ]
     },
     "execution_count": 6,
     "metadata": {},
     "output_type": "execute_result"
    }
   ],
   "source": [
    "shuffle = ShuffleLinear(3, 4)\n",
    "shuffle.forward(inputX)"
   ]
  },
  {
   "cell_type": "code",
   "execution_count": 35,
   "metadata": {},
   "outputs": [
    {
     "name": "stdout",
     "output_type": "stream",
     "text": [
      "Size of input tensor: torch.Size([3])\n",
      "Size of W tensor torch.Size([4, 3])\n",
      "Input: tensor([1., 2., 3.])\n",
      "Weights:\n",
      "Parameter containing:\n",
      "tensor([[ 0.0170,  0.1478,  0.1312],\n",
      "        [-0.1592,  0.0984,  0.0042],\n",
      "        [ 0.0364,  0.1263, -0.1015],\n",
      "        [ 0.0037, -0.0235, -0.0238]], requires_grad=True)\n",
      "Transposed Weight:\n",
      "tensor([[ 0.0170, -0.1592,  0.0364,  0.0037],\n",
      "        [ 0.1478,  0.0984,  0.1263, -0.0235],\n",
      "        [ 0.1312,  0.0042, -0.1015, -0.0238]], grad_fn=<PermuteBackward0>)\n",
      "Indices:\n",
      "tensor([[2, 0, 3, 1],\n",
      "        [3, 1, 2, 0],\n",
      "        [1, 2, 3, 0]])\n",
      "Shuffled T Weights:\n",
      "tensor([[ 0.0364,  0.0170,  0.0037, -0.1592],\n",
      "        [-0.0235,  0.0984,  0.1263,  0.1478],\n",
      "        [ 0.0042, -0.1015, -0.0238,  0.1312]], grad_fn=<GatherBackward0>)\n",
      "Shuffled Weights:\n",
      "tensor([[ 0.0364, -0.0235,  0.0042],\n",
      "        [ 0.0170,  0.0984, -0.1015],\n",
      "        [ 0.0037,  0.1263, -0.0238],\n",
      "        [-0.1592,  0.1478,  0.1312]], grad_fn=<PermuteBackward0>)\n",
      "Normal Output:\n",
      "tensor([ 0.7062,  0.0503, -0.0155, -0.1147], grad_fn=<AddBackward0>)\n",
      "Shuffled output:\n",
      "tensor([ 0.0020, -0.0905,  0.1849,  0.5300], grad_fn=<AddBackward0>)\n",
      "Size of input tensor: torch.Size([4])\n",
      "Size of W tensor torch.Size([2, 4])\n",
      "Input: tensor([ 0.7062,  0.0503, -0.0155, -0.1147], grad_fn=<AddBackward0>)\n",
      "Weights:\n",
      "Parameter containing:\n",
      "tensor([[ 0.0460,  0.0608, -0.0597,  0.0089],\n",
      "        [ 0.0270, -0.2653, -0.1312, -0.1330]], requires_grad=True)\n",
      "Transposed Weight:\n",
      "tensor([[ 0.0460,  0.0270],\n",
      "        [ 0.0608, -0.2653],\n",
      "        [-0.0597, -0.1312],\n",
      "        [ 0.0089, -0.1330]], grad_fn=<PermuteBackward0>)\n",
      "Indices:\n",
      "tensor([[1, 0],\n",
      "        [1, 0],\n",
      "        [0, 1],\n",
      "        [0, 1]])\n",
      "Shuffled T Weights:\n",
      "tensor([[ 0.0270,  0.0460],\n",
      "        [-0.2653,  0.0608],\n",
      "        [-0.0597, -0.1312],\n",
      "        [ 0.0089, -0.1330]], grad_fn=<GatherBackward0>)\n",
      "Shuffled Weights:\n",
      "tensor([[ 0.0270, -0.2653, -0.0597,  0.0089],\n",
      "        [ 0.0460,  0.0608, -0.1312, -0.1330]], grad_fn=<PermuteBackward0>)\n",
      "Normal Output:\n",
      "tensor([0.0355, 0.0230], grad_fn=<AddBackward0>)\n",
      "Shuffled output:\n",
      "tensor([0.0056, 0.0529], grad_fn=<AddBackward0>)\n"
     ]
    },
    {
     "data": {
      "text/plain": [
       "tensor([0.0355, 0.0230], grad_fn=<AddBackward0>)"
      ]
     },
     "execution_count": 35,
     "metadata": {},
     "output_type": "execute_result"
    }
   ],
   "source": [
    "sm1 = ShuffleLinear(3, 4)\n",
    "sm2 = ShuffleLinear(4, 2)\n",
    "sm2.forward(sm1.forward(inputX))"
   ]
  }
 ],
 "metadata": {
  "kernelspec": {
   "display_name": "pytorch_nn_env",
   "language": "python",
   "name": "python3"
  },
  "language_info": {
   "codemirror_mode": {
    "name": "ipython",
    "version": 3
   },
   "file_extension": ".py",
   "mimetype": "text/x-python",
   "name": "python",
   "nbconvert_exporter": "python",
   "pygments_lexer": "ipython3",
   "version": "3.9.16"
  },
  "orig_nbformat": 4
 },
 "nbformat": 4,
 "nbformat_minor": 2
}
