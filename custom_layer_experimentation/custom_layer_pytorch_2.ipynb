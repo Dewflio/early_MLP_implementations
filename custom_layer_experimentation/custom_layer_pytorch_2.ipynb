{
 "cells": [
  {
   "cell_type": "code",
   "execution_count": 1,
   "metadata": {},
   "outputs": [],
   "source": [
    "import torch\n",
    "import torch.nn as nn\n",
    "import torch.nn.functional as F\n",
    "import numpy as np"
   ]
  },
  {
   "cell_type": "code",
   "execution_count": null,
   "metadata": {},
   "outputs": [],
   "source": [
    "class ShuffleLinear(nn.Module):\n",
    "    def __init__(self, in_features, out_features):\n",
    "        super(ShuffleLinear, self).__init__()\n",
    "        self.in_features = in_features\n",
    "        self.out_features = out_features\n",
    "        self.W = nn.Parameter(torch.Tensor(out_features, in_features))\n",
    "        self.b = nn.Parameter(torch.Tensor(out_features))\n",
    "        self.init_parameters()\n",
    "\n",
    "    def init_parameters(self):\n",
    "        nn.init.normal_(self.W, std=0.1)\n",
    "        nn.init.constant_(self.b, 0)\n",
    "\n",
    "    def forward(self, x):\n",
    "        # Shuffle the input tensor and the layer kernel randomly\n",
    "        indices = torch.randperm(x.size()[-1])\n",
    "        shuffled_x = x[indices]\n",
    "        shuffled_weight = self.W[:, indices]\n",
    "        print(f\"Size of input tensor: {x.size()}\\nSize of W tensor {self.W.size()}\")\n",
    "        print(f\"Input tensor: {x}\\nWeight tensor: {self.W}\")\n",
    "        print(f\"Shuffled indices: {indices}\")\n",
    "        print(f\"Shuffled input: {shuffled_x}\\nShuffled weighs: {shuffled_weight}\")\n",
    "\n",
    "        # Perform the matrix multiplication\n",
    "        output = torch.matmul(shuffled_x, shuffled_weight.t())\n",
    "        output_not_shuffled = torch.matmul(x, self.W.t())\n",
    "        \n",
    "        print(f\"Shuffled output: {output}\")\n",
    "        print(f\"output: {output_not_shuffled}\")\n",
    "        output = output + self.b\n",
    "        return output\n",
    "    "
   ]
  },
  {
   "cell_type": "code",
   "execution_count": null,
   "metadata": {},
   "outputs": [],
   "source": [
    "inputX = torch.Tensor(np.arange(1, 4, dtype=float))\n",
    "print(inputX)"
   ]
  },
  {
   "cell_type": "code",
   "execution_count": null,
   "metadata": {},
   "outputs": [],
   "source": [
    "shuffle = ShuffleLinear(3, 4)\n",
    "print(shuffle.forward(inputX))"
   ]
  }
 ],
 "metadata": {
  "kernelspec": {
   "display_name": "pytorch_nn_env",
   "language": "python",
   "name": "python3"
  },
  "language_info": {
   "codemirror_mode": {
    "name": "ipython",
    "version": 3
   },
   "file_extension": ".py",
   "mimetype": "text/x-python",
   "name": "python",
   "nbconvert_exporter": "python",
   "pygments_lexer": "ipython3",
   "version": "3.9.16"
  },
  "orig_nbformat": 4
 },
 "nbformat": 4,
 "nbformat_minor": 2
}
