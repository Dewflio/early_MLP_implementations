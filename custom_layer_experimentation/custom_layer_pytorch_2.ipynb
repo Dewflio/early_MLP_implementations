{
 "cells": [
  {
   "cell_type": "code",
   "execution_count": 15,
   "metadata": {},
   "outputs": [],
   "source": [
    "import torch\n",
    "import torch.nn as nn\n",
    "import torch.nn.functional as F\n",
    "import numpy as np"
   ]
  },
  {
   "cell_type": "code",
   "execution_count": 22,
   "metadata": {},
   "outputs": [],
   "source": [
    "class ShuffleLinear(nn.Module):\n",
    "    def __init__(self, in_features, out_features):\n",
    "        super(ShuffleLinear, self).__init__()\n",
    "        self.in_features = in_features\n",
    "        self.out_features = out_features\n",
    "        self.W = nn.Parameter(torch.Tensor(out_features, in_features))\n",
    "        self.b = nn.Parameter(torch.Tensor(out_features))\n",
    "        self.init_parameters()\n",
    "\n",
    "    def init_parameters(self):\n",
    "        nn.init.normal_(self.W, std=0.1)\n",
    "        nn.init.constant_(self.b, 0)\n",
    "\n",
    "    def forward(self, x):\n",
    "        print(f\"Size of input tensor: {x.size()}\\nSize of W tensor {self.W.size()}\")\n",
    "        \n",
    "        shuffle_arr_T = self.W.T\n",
    "        indices = torch.argsort(torch.rand_like(shuffle_arr_T), dim=-1)\n",
    "        result = torch.gather(shuffle_arr_T, dim=-1, index=indices)\n",
    "\n",
    "        print(f\"Input: {x}\\nWeights:\\n{self.W}\\nTransposed Weight:\\n{shuffle_arr_T}\\nIndices:\\n{indices}\\nShuffled T Weights:\\n{result}\\nShuffled Weights:\\n{result.T}\")\n",
    "\n",
    "        # Perform the matrix multiplication\n",
    "        output = torch.matmul(x, self.W.t())\n",
    "        output = output + self.b\n",
    "        return output\n",
    "    "
   ]
  },
  {
   "cell_type": "code",
   "execution_count": 6,
   "metadata": {},
   "outputs": [
    {
     "name": "stdout",
     "output_type": "stream",
     "text": [
      "tensor([1., 2., 3.])\n"
     ]
    }
   ],
   "source": [
    "inputX = torch.Tensor(np.arange(1, 4, dtype=float))\n",
    "print(inputX)"
   ]
  },
  {
   "cell_type": "code",
   "execution_count": 23,
   "metadata": {},
   "outputs": [
    {
     "name": "stdout",
     "output_type": "stream",
     "text": [
      "Size of input tensor: torch.Size([3])\n",
      "Size of W tensor torch.Size([4, 3])\n",
      "Input: tensor([1., 2., 3.])\n",
      "Weights:\n",
      "Parameter containing:\n",
      "tensor([[-0.0688, -0.1161, -0.0816],\n",
      "        [ 0.0527,  0.0680,  0.0577],\n",
      "        [ 0.1203,  0.0084,  0.1173],\n",
      "        [-0.0609,  0.1054,  0.2306]], requires_grad=True)\n",
      "Transposed Weight:\n",
      "tensor([[-0.0688,  0.0527,  0.1203, -0.0609],\n",
      "        [-0.1161,  0.0680,  0.0084,  0.1054],\n",
      "        [-0.0816,  0.0577,  0.1173,  0.2306]], grad_fn=<PermuteBackward0>)\n",
      "Indices:\n",
      "tensor([[2, 1, 3, 0],\n",
      "        [0, 1, 2, 3],\n",
      "        [2, 3, 1, 0]])\n",
      "Shuffled T Weights:\n",
      "tensor([[ 0.1203,  0.0527, -0.0609, -0.0688],\n",
      "        [-0.1161,  0.0680,  0.0084,  0.1054],\n",
      "        [ 0.1173,  0.2306,  0.0577, -0.0816]], grad_fn=<GatherBackward0>)\n",
      "Shuffled Weights:\n",
      "tensor([[ 0.1203, -0.1161,  0.1173],\n",
      "        [ 0.0527,  0.0680,  0.2306],\n",
      "        [-0.0609,  0.0084,  0.0577],\n",
      "        [-0.0688,  0.1054, -0.0816]], grad_fn=<PermuteBackward0>)\n",
      "tensor([-0.5459,  0.3616,  0.4890,  0.8418], grad_fn=<AddBackward0>)\n"
     ]
    }
   ],
   "source": [
    "shuffle = ShuffleLinear(3, 4)\n",
    "print(shuffle.forward(inputX))"
   ]
  }
 ],
 "metadata": {
  "kernelspec": {
   "display_name": "pytorch_nn_env",
   "language": "python",
   "name": "python3"
  },
  "language_info": {
   "codemirror_mode": {
    "name": "ipython",
    "version": 3
   },
   "file_extension": ".py",
   "mimetype": "text/x-python",
   "name": "python",
   "nbconvert_exporter": "python",
   "pygments_lexer": "ipython3",
   "version": "3.9.16"
  },
  "orig_nbformat": 4
 },
 "nbformat": 4,
 "nbformat_minor": 2
}
